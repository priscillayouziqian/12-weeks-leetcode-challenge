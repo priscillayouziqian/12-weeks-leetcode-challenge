{
 "cells": [
  {
   "cell_type": "code",
   "execution_count": 1,
   "id": "16d2fb82",
   "metadata": {},
   "outputs": [
    {
     "data": {
      "text/plain": [
       "[0, 1]"
      ]
     },
     "execution_count": 1,
     "metadata": {},
     "output_type": "execute_result"
    }
   ],
   "source": [
    "def twoSum(nums, target):\n",
    "        # U - param: array of integers - [2,7,11, 15], target - integer\n",
    "        # one solution, same element only use once.\n",
    "        # loop through nums, sorted, if element > target, no need to loop for the rest.\n",
    "        \n",
    "\n",
    "        hashmap = {}\n",
    "        # loop through nums list to create a hashmap = {element in nums : index in nums}\n",
    "        for i in range(len(nums)): # i is index of nums\n",
    "            # dict[key] == value\n",
    "            key = nums[i]\n",
    "            hashmap[key] = i\n",
    "        # loop through nums list to find if 2nd element exist\n",
    "        for i in range(len(nums)):\n",
    "            complement = target - nums[i] # e.g. target 9, nums[0]=2, looking for complement=7\n",
    "            # if complement exist, and value of hashmap(index in nums) is not index i itself\n",
    "            if complement in hashmap and hashmap[complement] != i:\n",
    "                return [i, hashmap[complement]]\n",
    "        # if no valid pair/complement is found, return an empty list\n",
    "        return []\n",
    "    \n",
    "    # Test case\n",
    "    # nums = [2,7,11,15], target = 9\n",
    "twoSum([2,7,11,15], 9) # Expected output: [0,1] or [1,0]\n",
    "    # Expected output: [0,1] or [1,0]\n",
    "    # nums = [3,2,4], target = 6"
   ]
  },
  {
   "cell_type": "code",
   "execution_count": 3,
   "id": "2115594e",
   "metadata": {},
   "outputs": [
    {
     "data": {
      "text/plain": [
       "True"
      ]
     },
     "execution_count": 3,
     "metadata": {},
     "output_type": "execute_result"
    }
   ],
   "source": [
    "def isValid( s):\n",
    "        # U-open must match the same type close. closed in correct order--([]),\n",
    "        # (first in, but last to match ), use stack alghorism. \n",
    "        # define matching rules with dictionary, key-closing, value-opening\n",
    "\n",
    "        # Plan - loop through s string, append openings to a empty list named stack\n",
    "        # if is a closing, compare closing to correct opening with the last pop from stack,\n",
    "            # if no, return false, and remove the opening from stack, contine to loop the rest\n",
    "        # if loop through all elements in s, nothing is false, then return true\n",
    "\n",
    "        stack = []\n",
    "        opening = ['(', '{', '[']\n",
    "        matching = {')':'(', ']':'[', '}':'{'} \n",
    "        \n",
    "        for string in s:\n",
    "            if string in opening:\n",
    "                stack.append(string)\n",
    "            if string in matching:\n",
    "                # if stack has no opening, no need to match the rest, return false\n",
    "                # or if closing not matching with last pop from stack, return false\n",
    "                if not stack or matching[string] != stack.pop():\n",
    "                    return False\n",
    "\n",
    "        return not stack\n",
    "\n",
    "isValid(\"()[]{}\") # Expected output: True"
   ]
  }
 ],
 "metadata": {
  "kernelspec": {
   "display_name": ".venv",
   "language": "python",
   "name": "python3"
  },
  "language_info": {
   "codemirror_mode": {
    "name": "ipython",
    "version": 3
   },
   "file_extension": ".py",
   "mimetype": "text/x-python",
   "name": "python",
   "nbconvert_exporter": "python",
   "pygments_lexer": "ipython3",
   "version": "3.12.6"
  }
 },
 "nbformat": 4,
 "nbformat_minor": 5
}
