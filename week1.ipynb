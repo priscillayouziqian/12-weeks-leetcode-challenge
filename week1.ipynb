{
 "cells": [
  {
   "cell_type": "code",
   "execution_count": 1,
   "id": "16d2fb82",
   "metadata": {},
   "outputs": [
    {
     "data": {
      "text/plain": [
       "[0, 1]"
      ]
     },
     "execution_count": 1,
     "metadata": {},
     "output_type": "execute_result"
    }
   ],
   "source": [
    "def twoSum(nums, target):\n",
    "        # U - param: array of integers - [2,7,11, 15], target - integer\n",
    "        # one solution, same element only use once.\n",
    "        # loop through nums, sorted, if element > target, no need to loop for the rest.\n",
    "        \n",
    "\n",
    "        hashmap = {}\n",
    "        # loop through nums list to create a hashmap = {element in nums : index in nums}\n",
    "        for i in range(len(nums)): # i is index of nums\n",
    "            # dict[key] == value\n",
    "            key = nums[i]\n",
    "            hashmap[key] = i\n",
    "        # loop through nums list to find if 2nd element exist\n",
    "        for i in range(len(nums)):\n",
    "            complement = target - nums[i] # e.g. target 9, nums[0]=2, looking for complement=7\n",
    "            # if complement exist, and value of hashmap(index in nums) is not index i itself\n",
    "            if complement in hashmap and hashmap[complement] != i:\n",
    "                return [i, hashmap[complement]]\n",
    "        # if no valid pair/complement is found, return an empty list\n",
    "        return []\n",
    "    \n",
    "    # Test case\n",
    "    # nums = [2,7,11,15], target = 9\n",
    "twoSum([2,7,11,15], 9) # Expected output: [0,1] or [1,0]\n",
    "    # Expected output: [0,1] or [1,0]\n",
    "    # nums = [3,2,4], target = 6"
   ]
  },
  {
   "cell_type": "code",
   "execution_count": 3,
   "id": "2115594e",
   "metadata": {},
   "outputs": [
    {
     "data": {
      "text/plain": [
       "True"
      ]
     },
     "execution_count": 3,
     "metadata": {},
     "output_type": "execute_result"
    }
   ],
   "source": [
    "def isValid( s):\n",
    "        # U-open must match the same type close. closed in correct order--([]),\n",
    "        # (first in, but last to match ), use stack alghorism. \n",
    "        # define matching rules with dictionary, key-closing, value-opening\n",
    "\n",
    "        # Plan - loop through s string, append openings to a empty list named stack\n",
    "        # if is a closing, compare closing to correct opening with the last pop from stack,\n",
    "            # if no, return false, and remove the opening from stack, contine to loop the rest\n",
    "        # if loop through all elements in s, nothing is false, then return true\n",
    "\n",
    "        stack = []\n",
    "        opening = ['(', '{', '[']\n",
    "        matching = {')':'(', ']':'[', '}':'{'} \n",
    "        \n",
    "        for string in s:\n",
    "            if string in opening:\n",
    "                stack.append(string)\n",
    "            if string in matching:\n",
    "                # if stack has no opening, no need to match the rest, return false\n",
    "                # or if closing not matching with last pop from stack, return false\n",
    "                if not stack or matching[string] != stack.pop():\n",
    "                    return False\n",
    "\n",
    "        return not stack\n",
    "\n",
    "isValid(\"()[]{}\") # Expected output: True"
   ]
  },
  {
   "cell_type": "code",
   "execution_count": 8,
   "id": "a4c917e8",
   "metadata": {},
   "outputs": [],
   "source": [
    "\n",
    "from typing import Optional\n",
    "\n",
    "\n",
    "class ListNode:\n",
    "    def __init__(self, val=0, next=None):\n",
    "        self.val = val\n",
    "        self.next = next\n",
    "class Solution:\n",
    "    def mergeTwoLists(self, list1: Optional[ListNode], list2: Optional[ListNode]) -> Optional[ListNode]:\n",
    "        # U - two params: list1 and list2, all sorted linked lists. return new list\n",
    "        # merged two linked lists, list1 comes first when has same value with list2\n",
    "        # edge cases: both empty list, return empty list\n",
    "        # edge cases2: one of list empty, return another list directly\n",
    "\n",
    "        arr = []  \n",
    "\n",
    "        # Pushing the values of the first linked list\n",
    "        while list1 is not None:\n",
    "            arr.append(list1.val)\n",
    "            list1 = list1.next\n",
    "\n",
    "        # Pushing the values of the second linked list\n",
    "        while list2 is not None:\n",
    "            arr.append(list2.val)\n",
    "            list2 = list2.next\n",
    "\n",
    "        # Sorting the list\n",
    "        arr.sort()\n",
    "\n",
    "        if not arr:\n",
    "            return None\n",
    "        \n",
    "        # creating a new linked list with sorted values\n",
    "        head = ListNode(arr[0])\n",
    "        current = head\n",
    "        for val in arr[1:]:\n",
    "            current.next = ListNode(val)\n",
    "            current = current.next\n",
    "            \n",
    "\n",
    "        return head\n",
    "        \n"
   ]
  },
  {
   "cell_type": "code",
   "execution_count": 1,
   "id": "7d6a1aaa",
   "metadata": {},
   "outputs": [
    {
     "name": "stdout",
     "output_type": "stream",
     "text": [
      "5\n"
     ]
    }
   ],
   "source": [
    "# You are given an array prices where prices[i] is the price of a given stock on the ith day.\n",
    "\n",
    "# You want to maximize your profit by choosing a single day to buy one stock and choosing a different day in the future to sell that stock.\n",
    "\n",
    "# Return the maximum profit you can achieve from this transaction. If you cannot achieve any profit, return 0.\n",
    "\n",
    "def maxProfit(prices):\n",
    "        # U - array of integers, day = i, price[i] = price on day i \n",
    "        # return the max profit=price[i] - price[i+n]\n",
    "        # edge case: if second half < first half price, no profit, return 0\n",
    "\n",
    "        # use 2 pointers method, fast and slow start from start, let fast to loop to the end\n",
    "\n",
    "        # left ->buy at index 0, right -> sell at index 1\n",
    "        left = 0\n",
    "        right = 1\n",
    "\n",
    "        max_profit = 0 \n",
    "        \n",
    "        while right < len(prices): # while index of right didn't hit to the end index\n",
    "            current_profit = prices[right] - prices[left] # next day price - today price\n",
    "            if prices[left] < prices[right]: # when profit is positive integers\n",
    "                max_profit = max(current_profit, max_profit)\n",
    "            else: # when profit is 0 or negative integers\n",
    "                left = right #left pointer move 1 step, becomes the current right pointer\n",
    "            # no matter if statements - profit negative or positive, right pointer move 1 step\n",
    "            right += 1\n",
    "        return max_profit\n",
    "\n",
    "prices = [7,1,5,3,6,4] # Expected output: 5 (buy on day 2 and sell on day 5)\n",
    "print(maxProfit(prices)) # Expected output: 5 (buy on day 2 and sell on day 5)"
   ]
  },
  {
   "cell_type": "code",
   "execution_count": 2,
   "id": "429f154d",
   "metadata": {},
   "outputs": [
    {
     "name": "stdout",
     "output_type": "stream",
     "text": [
      "6\n"
     ]
    }
   ],
   "source": [
    "# Given an integer array nums, find the subarray with the largest sum, and return its sum.\n",
    "\n",
    "# Example 1:\n",
    "\n",
    "# Input: nums = [-2,1,-3,4,-1,2,1,-5,4]\n",
    "# Output: 6\n",
    "# Explanation: The subarray [4,-1,2,1] has the largest sum 6.\n",
    "# Example 2:\n",
    "\n",
    "# Input: nums = [1]\n",
    "# Output: 1\n",
    "# Explanation: The subarray [1] has the largest sum 1.\n",
    "# Example 3:\n",
    "\n",
    "# Input: nums = [5,4,-1,7,8]\n",
    "# Output: 23\n",
    "# Explanation: The subarray [5,4,-1,7,8] has the largest sum 23.\n",
    "\n",
    "def maxSubArray(nums):\n",
    "        # U - a list of array, can be negative and positive. \n",
    "\n",
    "        # max_current keeps track of the best sum ending at current index\n",
    "        max_current = nums[0]\n",
    "        # max_global keeps track of the best sum ever so far\n",
    "        max_global = nums[0]\n",
    "        for i in range(1, len(nums)): # loop from the second element to the end\n",
    "            # either be current element, or add it together\n",
    "            max_current = max(nums[i], max_current + nums[i]) \n",
    "            # either be current max, or global max\n",
    "            max_global = max(max_global, max_current)\n",
    "        return max_global\n",
    "\n",
    "nums = [-2,1,-3,4,-1,2,1,-5,4] # Expected output: 6 (subarray [4,-1,2,1])\n",
    "print(maxSubArray(nums)) # Expected output: 6 (subarray [4,-1,2,1])"
   ]
  },
  {
   "cell_type": "code",
   "execution_count": null,
   "id": "615dd607",
   "metadata": {},
   "outputs": [],
   "source": [
    "def deleteEven(listHead):\n",
    "    # U - linked list, delete all even numbers, listHead is a num only, directly point to next node,\n",
    "    # n is the total length of the linked list, use % 2 in if statement to create a new odd number list, and link each num one by one\n",
    "    \n",
    "    odd_list = []\n",
    "    \n",
    "    while listHead:\n",
    "        # print(listHead.data)\n",
    "        if listHead.data % 2 != 0:\n",
    "            odd_list.append(listHead.data)\n",
    "        listHead = listHead.next\n",
    "    # print(odd_list)\n",
    "    if odd_list:\n",
    "        cur = dummy = SinglyLinkedListNode(odd_list[0])\n",
    "        # print(\"cur\", cur.data)\n",
    "        for i in odd_list:\n",
    "            cur.next = SinglyLinkedListNode(i)\n",
    "            cur = cur.next\n",
    "        return dummy.next    \n",
    "\n"
   ]
  },
  {
   "cell_type": "code",
   "execution_count": null,
   "id": "635fdd44",
   "metadata": {},
   "outputs": [],
   "source": [
    "def maximumOccurringCharacter(text):\n",
    "    # U - text is a string that only alphnum, case-sensitive that a/A are different, if tie, return first in the string\n",
    "    # use frequency map, dict = {key-char itself : value-count frequency}\n",
    "    \n",
    "    freq_map = {}\n",
    "    \n",
    "    for char in text:\n",
    "        if char in freq_map: # char is the key in dict\n",
    "            freq_map[char] += 1\n",
    "        else:\n",
    "            freq_map[char] = 1\n",
    "    # print(freq_map)\n",
    "    max_value = max(freq_map.values())\n",
    "    for key, value in freq_map.items():\n",
    "        # print(key, value)\n",
    "        if value == max_value:\n",
    "            return key"
   ]
  },
  {
   "cell_type": "code",
   "execution_count": 3,
   "id": "8d875391",
   "metadata": {},
   "outputs": [
    {
     "name": "stdout",
     "output_type": "stream",
     "text": [
      "1\n",
      "4\n",
      "1\n"
     ]
    }
   ],
   "source": [
    "# Single Number\n",
    "\n",
    "# Given a non-empty array of integers nums, every element appears twice except for one. Find that single one.You must implement a solution with a linear runtime complexity and use only constant extra space.\n",
    "\n",
    "# Think about the XOR (^) operator's property.\n",
    "\n",
    "def singleNumber(nums):\n",
    "        # key properties of XOR\n",
    "        # a ^ a = 0\n",
    "        # a ^ 0 = a\n",
    "        \n",
    "        result = 0\n",
    "\n",
    "        for num in nums:\n",
    "            # if 1^5=4, can understand 4^5=1 because 4 and 5 are different bit, return 1\n",
    "            result = result ^ num\n",
    "            # example: nums = [2, 3, 5, 2, 3]\n",
    "            # result = 0\n",
    "            # result = 0 ^ 2 = 2\n",
    "            # result = 2 ^ 3 = 1\n",
    "            # result = 1 ^ 5 = 4\n",
    "            # result = 4 ^ 2 = 6\n",
    "            # result = 6 ^ 3 = 5\n",
    "\n",
    "        return result\n",
    "\n",
    "nums = [2,2,1] # Expected output: 1 (the single number)\n",
    "print(singleNumber(nums)) # Expected output: 1 (the single number)\n",
    "nums=[4,1,2,1,2]\n",
    "print(singleNumber(nums)) # Expected output: 4 (the single number)\n",
    "nums=[1]\n",
    "print(singleNumber(nums)) # Expected output: 1 (the single number)"
   ]
  }
 ],
 "metadata": {
  "kernelspec": {
   "display_name": ".venv",
   "language": "python",
   "name": "python3"
  },
  "language_info": {
   "codemirror_mode": {
    "name": "ipython",
    "version": 3
   },
   "file_extension": ".py",
   "mimetype": "text/x-python",
   "name": "python",
   "nbconvert_exporter": "python",
   "pygments_lexer": "ipython3",
   "version": "3.12.6"
  }
 },
 "nbformat": 4,
 "nbformat_minor": 5
}
