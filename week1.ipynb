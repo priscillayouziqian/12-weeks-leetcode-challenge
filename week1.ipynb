{
 "cells": [
  {
   "cell_type": "code",
   "execution_count": 1,
   "id": "16d2fb82",
   "metadata": {},
   "outputs": [
    {
     "data": {
      "text/plain": [
       "[0, 1]"
      ]
     },
     "execution_count": 1,
     "metadata": {},
     "output_type": "execute_result"
    }
   ],
   "source": [
    "def twoSum(nums, target):\n",
    "        # U - param: array of integers - [2,7,11, 15], target - integer\n",
    "        # one solution, same element only use once.\n",
    "        # loop through nums, sorted, if element > target, no need to loop for the rest.\n",
    "        \n",
    "\n",
    "        hashmap = {}\n",
    "        # loop through nums list to create a hashmap = {element in nums : index in nums}\n",
    "        for i in range(len(nums)): # i is index of nums\n",
    "            # dict[key] == value\n",
    "            key = nums[i]\n",
    "            hashmap[key] = i\n",
    "        # loop through nums list to find if 2nd element exist\n",
    "        for i in range(len(nums)):\n",
    "            complement = target - nums[i] # e.g. target 9, nums[0]=2, looking for complement=7\n",
    "            # if complement exist, and value of hashmap(index in nums) is not index i itself\n",
    "            if complement in hashmap and hashmap[complement] != i:\n",
    "                return [i, hashmap[complement]]\n",
    "        # if no valid pair/complement is found, return an empty list\n",
    "        return []\n",
    "    \n",
    "    # Test case\n",
    "    # nums = [2,7,11,15], target = 9\n",
    "twoSum([2,7,11,15], 9) # Expected output: [0,1] or [1,0]\n",
    "    # Expected output: [0,1] or [1,0]\n",
    "    # nums = [3,2,4], target = 6"
   ]
  },
  {
   "cell_type": "code",
   "execution_count": 3,
   "id": "2115594e",
   "metadata": {},
   "outputs": [
    {
     "data": {
      "text/plain": [
       "True"
      ]
     },
     "execution_count": 3,
     "metadata": {},
     "output_type": "execute_result"
    }
   ],
   "source": [
    "def isValid( s):\n",
    "        # U-open must match the same type close. closed in correct order--([]),\n",
    "        # (first in, but last to match ), use stack alghorism. \n",
    "        # define matching rules with dictionary, key-closing, value-opening\n",
    "\n",
    "        # Plan - loop through s string, append openings to a empty list named stack\n",
    "        # if is a closing, compare closing to correct opening with the last pop from stack,\n",
    "            # if no, return false, and remove the opening from stack, contine to loop the rest\n",
    "        # if loop through all elements in s, nothing is false, then return true\n",
    "\n",
    "        stack = []\n",
    "        opening = ['(', '{', '[']\n",
    "        matching = {')':'(', ']':'[', '}':'{'} \n",
    "        \n",
    "        for string in s:\n",
    "            if string in opening:\n",
    "                stack.append(string)\n",
    "            if string in matching:\n",
    "                # if stack has no opening, no need to match the rest, return false\n",
    "                # or if closing not matching with last pop from stack, return false\n",
    "                if not stack or matching[string] != stack.pop():\n",
    "                    return False\n",
    "\n",
    "        return not stack\n",
    "\n",
    "isValid(\"()[]{}\") # Expected output: True"
   ]
  },
  {
   "cell_type": "code",
   "execution_count": 8,
   "id": "a4c917e8",
   "metadata": {},
   "outputs": [],
   "source": [
    "\n",
    "from typing import Optional\n",
    "\n",
    "\n",
    "class ListNode:\n",
    "    def __init__(self, val=0, next=None):\n",
    "        self.val = val\n",
    "        self.next = next\n",
    "class Solution:\n",
    "    def mergeTwoLists(self, list1: Optional[ListNode], list2: Optional[ListNode]) -> Optional[ListNode]:\n",
    "        # U - two params: list1 and list2, all sorted linked lists. return new list\n",
    "        # merged two linked lists, list1 comes first when has same value with list2\n",
    "        # edge cases: both empty list, return empty list\n",
    "        # edge cases2: one of list empty, return another list directly\n",
    "\n",
    "        arr = []  \n",
    "\n",
    "        # Pushing the values of the first linked list\n",
    "        while list1 is not None:\n",
    "            arr.append(list1.val)\n",
    "            list1 = list1.next\n",
    "\n",
    "        # Pushing the values of the second linked list\n",
    "        while list2 is not None:\n",
    "            arr.append(list2.val)\n",
    "            list2 = list2.next\n",
    "\n",
    "        # Sorting the list\n",
    "        arr.sort()\n",
    "\n",
    "        if not arr:\n",
    "            return None\n",
    "        \n",
    "        # creating a new linked list with sorted values\n",
    "        head = ListNode(arr[0])\n",
    "        current = head\n",
    "        for val in arr[1:]:\n",
    "            current.next = ListNode(val)\n",
    "            current = current.next\n",
    "            \n",
    "\n",
    "        return head\n",
    "        \n"
   ]
  },
  {
   "cell_type": "code",
   "execution_count": 1,
   "id": "7d6a1aaa",
   "metadata": {},
   "outputs": [
    {
     "name": "stdout",
     "output_type": "stream",
     "text": [
      "5\n"
     ]
    }
   ],
   "source": [
    "# You are given an array prices where prices[i] is the price of a given stock on the ith day.\n",
    "\n",
    "# You want to maximize your profit by choosing a single day to buy one stock and choosing a different day in the future to sell that stock.\n",
    "\n",
    "# Return the maximum profit you can achieve from this transaction. If you cannot achieve any profit, return 0.\n",
    "\n",
    "def maxProfit(prices):\n",
    "        # U - array of integers, day = i, price[i] = price on day i \n",
    "        # return the max profit=price[i] - price[i+n]\n",
    "        # edge case: if second half < first half price, no profit, return 0\n",
    "\n",
    "        # use 2 pointers method, fast and slow start from start, let fast to loop to the end\n",
    "\n",
    "        # left ->buy at index 0, right -> sell at index 1\n",
    "        left = 0\n",
    "        right = 1\n",
    "\n",
    "        max_profit = 0 \n",
    "        \n",
    "        while right < len(prices): # while index of right didn't hit to the end index\n",
    "            current_profit = prices[right] - prices[left] # next day price - today price\n",
    "            if prices[left] < prices[right]: # when profit is positive integers\n",
    "                max_profit = max(current_profit, max_profit)\n",
    "            else: # when profit is 0 or negative integers\n",
    "                left = right #left pointer move 1 step, becomes the current right pointer\n",
    "            # no matter if statements - profit negative or positive, right pointer move 1 step\n",
    "            right += 1\n",
    "        return max_profit\n",
    "\n",
    "prices = [7,1,5,3,6,4] # Expected output: 5 (buy on day 2 and sell on day 5)\n",
    "print(maxProfit(prices)) # Expected output: 5 (buy on day 2 and sell on day 5)"
   ]
  }
 ],
 "metadata": {
  "kernelspec": {
   "display_name": ".venv",
   "language": "python",
   "name": "python3"
  },
  "language_info": {
   "codemirror_mode": {
    "name": "ipython",
    "version": 3
   },
   "file_extension": ".py",
   "mimetype": "text/x-python",
   "name": "python",
   "nbconvert_exporter": "python",
   "pygments_lexer": "ipython3",
   "version": "3.12.6"
  }
 },
 "nbformat": 4,
 "nbformat_minor": 5
}
