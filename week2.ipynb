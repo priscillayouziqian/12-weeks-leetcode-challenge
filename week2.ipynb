{
 "cells": [
  {
   "cell_type": "code",
   "execution_count": 7,
   "id": "877fbc74",
   "metadata": {},
   "outputs": [],
   "source": [
    "# 141 Linked List Cycle\n",
    "\n",
    "# Given head, the head of a linked list, determine if the linked list has a cycle in it.\n",
    "\n",
    "# There is a cycle in a linked list if there is some node in the list that can be reached again by continuously following the next pointer. Internally, pos is used to denote the index of the node that tail's next pointer is connected to. Note that pos is not passed as a parameter.\n",
    "\n",
    "# Return true if there is a cycle in the linked list. Otherwise, return false.\n",
    "\n",
    "# class ListNode:\n",
    "#     def __init__(self, x):\n",
    "#         self.val = x\n",
    "#         self.next = None\n",
    "\n",
    "def hasCycle(head):\n",
    "        # U - given a head of a linked list, expected a boolean. \n",
    "        # use 2 pointers method, slow/fast, loop thru the list, if has cycle, \n",
    "        # slow will finally meets fast pointer\n",
    "\n",
    "        # initialize pointers using head node\n",
    "        slow = head\n",
    "        fast = head\n",
    "\n",
    "        # when fast and its next node are not None - means not looping til the end yet\n",
    "        while fast and fast.next: \n",
    "            slow = slow.next\n",
    "            fast = fast.next.next\n",
    "\n",
    "            # if they meets - node's value the same, and .next the same\n",
    "            if fast == slow:\n",
    "                return True\n",
    "        # if nothing found after loop thru entire list, return False for no cycle found\n",
    "        return False\n",
    "\n",
    "head = [3,2,0,-4]\n",
    "# pos = 1 (tail connects to node index 1)\n",
    "# Output: true\n",
    "\n",
    "head = [1,2]\n",
    "# pos = 0 (tail connects to node index 0)\n",
    "# Output: true\n"
   ]
  }
 ],
 "metadata": {
  "kernelspec": {
   "display_name": ".venv",
   "language": "python",
   "name": "python3"
  },
  "language_info": {
   "codemirror_mode": {
    "name": "ipython",
    "version": 3
   },
   "file_extension": ".py",
   "mimetype": "text/x-python",
   "name": "python",
   "nbconvert_exporter": "python",
   "pygments_lexer": "ipython3",
   "version": "3.12.6"
  }
 },
 "nbformat": 4,
 "nbformat_minor": 5
}
