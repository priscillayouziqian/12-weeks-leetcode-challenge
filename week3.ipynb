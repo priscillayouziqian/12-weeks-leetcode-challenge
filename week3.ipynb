{
 "cells": [
  {
   "cell_type": "code",
   "execution_count": null,
   "id": "97a65cbe",
   "metadata": {},
   "outputs": [],
   "source": [
    "def moveZeroes(nums):\n",
    "        \"\"\"\n",
    "        Do not return anything, modify nums in-place instead.\n",
    "        \"\"\"\n",
    "        # no return, just modify imput params. zero must put at the end\n",
    "        # use 2 pointers method - left / right?\n",
    "\n",
    "        # left pointer at index 0\n",
    "        left = 0 \n",
    "        # right pointer is current pointer, checking non-zero number\n",
    "        for right in range(len(nums)):\n",
    "            if nums[right] != 0:\n",
    "                # zero number move to end(move right step by step)\n",
    "                # in orther words, non-zero move to left\n",
    "                nums[right], nums[left] = nums[left], nums[right]\n",
    "                # right/current pointer will move auto in for loop,\n",
    "                # here move left pointer mannually\n",
    "                left += 1\n"
   ]
  },
  {
   "cell_type": "code",
   "execution_count": null,
   "id": "0f07ffa0",
   "metadata": {},
   "outputs": [
    {
     "name": "stdout",
     "output_type": "stream",
     "text": [
      "True\n",
      "False\n",
      "True\n"
     ]
    }
   ],
   "source": [
    "#217 contains duplicate\n",
    "def containsDuplicate(nums):\n",
    "    \"\"\"\n",
    "    Given an integer array nums, return true if any value appears at least twice in the array, and return false if every element is distinct.\n",
    "    \"\"\"\n",
    "    # use set to remove duplicate\n",
    "    # if length of set is less than length of list, means there are duplicates\n",
    "\n",
    "    \n",
    "    return not(len(nums) == len(set(nums)))\n",
    "\n",
    "nums = [1,2,3,1]\n",
    "print(containsDuplicate(nums))\n",
    "nums = [1,2,3,4]\n",
    "print(containsDuplicate(nums))\n",
    "nums = [1,1,1,3,3,4,3,2,4,2]\n",
    "print(containsDuplicate(nums))"
   ]
  }
 ],
 "metadata": {
  "kernelspec": {
   "display_name": ".venv",
   "language": "python",
   "name": "python3"
  },
  "language_info": {
   "codemirror_mode": {
    "name": "ipython",
    "version": 3
   },
   "file_extension": ".py",
   "mimetype": "text/x-python",
   "name": "python",
   "nbconvert_exporter": "python",
   "pygments_lexer": "ipython3",
   "version": "3.12.6"
  }
 },
 "nbformat": 4,
 "nbformat_minor": 5
}
