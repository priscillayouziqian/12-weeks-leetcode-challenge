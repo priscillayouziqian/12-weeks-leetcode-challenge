{
 "cells": [
  {
   "cell_type": "code",
   "execution_count": null,
   "id": "97a65cbe",
   "metadata": {},
   "outputs": [],
   "source": [
    "def moveZeroes(nums):\n",
    "        \"\"\"\n",
    "        Do not return anything, modify nums in-place instead.\n",
    "        \"\"\"\n",
    "        # no return, just modify imput params. zero must put at the end\n",
    "        # use 2 pointers method - left / right?\n",
    "\n",
    "        # left pointer at index 0\n",
    "        left = 0 \n",
    "        # right pointer is current pointer, checking non-zero number\n",
    "        for right in range(len(nums)):\n",
    "            if nums[right] != 0:\n",
    "                # zero number move to end(move right step by step)\n",
    "                # in orther words, non-zero move to left\n",
    "                nums[right], nums[left] = nums[left], nums[right]\n",
    "                # right/current pointer will move auto in for loop,\n",
    "                # here move left pointer mannually\n",
    "                left += 1\n"
   ]
  }
 ],
 "metadata": {
  "language_info": {
   "name": "python"
  }
 },
 "nbformat": 4,
 "nbformat_minor": 5
}
