{
 "cells": [
  {
   "cell_type": "code",
   "execution_count": null,
   "id": "97a65cbe",
   "metadata": {},
   "outputs": [],
   "source": [
    "def moveZeroes(nums):\n",
    "        \"\"\"\n",
    "        Do not return anything, modify nums in-place instead.\n",
    "        \"\"\"\n",
    "        # no return, just modify imput params. zero must put at the end\n",
    "        # use 2 pointers method - left / right?\n",
    "\n",
    "        # left pointer at index 0\n",
    "        left = 0 \n",
    "        # right pointer is current pointer, checking non-zero number\n",
    "        for right in range(len(nums)):\n",
    "            if nums[right] != 0:\n",
    "                # zero number move to end(move right step by step)\n",
    "                # in orther words, non-zero move to left\n",
    "                nums[right], nums[left] = nums[left], nums[right]\n",
    "                # right/current pointer will move auto in for loop,\n",
    "                # here move left pointer mannually\n",
    "                left += 1\n"
   ]
  },
  {
   "cell_type": "code",
   "execution_count": 1,
   "id": "0f07ffa0",
   "metadata": {},
   "outputs": [],
   "source": [
    "#217 contains duplicate\n",
    "def containsDuplicate(nums):\n",
    "    \"\"\"\n",
    "    Given an integer array nums, return true if any value appears at least twice in the array, and return false if every element is distinct.\n",
    "    \"\"\"\n",
    "    # use set to remove duplicate\n",
    "    # if length of set is less than length of list, means there are duplicates\n",
    "\n",
    "    \n",
    "    return not(len(nums) == len(set(nums)))\n",
    "\n",
    "# nums = [1,2,3,1]\n",
    "# print(containsDuplicate(nums))\n",
    "# nums = [1,2,3,4]\n",
    "# print(containsDuplicate(nums))\n",
    "# nums = [1,1,1,3,3,4,3,2,4,2]\n",
    "# print(containsDuplicate(nums))"
   ]
  },
  {
   "cell_type": "code",
   "execution_count": null,
   "id": "9f68a6bf",
   "metadata": {},
   "outputs": [],
   "source": [
    "def intersection(nums1, nums2):\n",
    "        # U - input are 2 array of int, output is array of unique intersection.\n",
    "        \n",
    "        n1 = set(nums1)\n",
    "        n2 = set(nums2)\n",
    "\n",
    "        # result = n1 & n2, same function as the below build-in method.\n",
    "\n",
    "        # set1.intersection(set2) is a build-in method for python's set type\n",
    "        result = n1.intersection(n2)\n",
    "        # result is {2}\n",
    "        \n",
    "        # convert set to list, using list()\n",
    "        return list(result)\n"
   ]
  },
  {
   "cell_type": "code",
   "execution_count": null,
   "id": "b073f3c8",
   "metadata": {},
   "outputs": [],
   "source": [
    "# 206 reverse linked list\n",
    "class ListNode:\n",
    "    def __init__(self, val=0, next=None):\n",
    "        self.val = val\n",
    "        self.next = next\n",
    "def reverseList(head):\n",
    "        # return list in reverse order\n",
    "        # return in a python list. begigining node, go thr list keep track of\n",
    "        # prev node \n",
    "\n",
    "        prev = None\n",
    "        current = head\n",
    "\n",
    "        while current:\n",
    "            temp = current.next\n",
    "            current.next = prev #reverse the pointer, next node becomes previous node\n",
    "            prev = current # move prev forward\n",
    "            current = temp # move current forward\n",
    "        # prev is the new head of the reverse list\n",
    "        return prev"
   ]
  },
  {
   "cell_type": "code",
   "execution_count": 1,
   "id": "bc894e75",
   "metadata": {},
   "outputs": [
    {
     "name": "stderr",
     "output_type": "stream",
     "text": [
      "\n",
      "[notice] A new release of pip is available: 25.1 -> 25.1.1\n",
      "[notice] To update, run: python.exe -m pip install --upgrade pip\n"
     ]
    },
    {
     "name": "stdout",
     "output_type": "stream",
     "text": [
      "Requirement already satisfied: requests in c:\\users\\prisc\\desktop\\leetcode challenge\\.venv\\lib\\site-packages (2.32.3)\n",
      "Requirement already satisfied: charset-normalizer<4,>=2 in c:\\users\\prisc\\desktop\\leetcode challenge\\.venv\\lib\\site-packages (from requests) (3.4.2)\n",
      "Requirement already satisfied: idna<4,>=2.5 in c:\\users\\prisc\\desktop\\leetcode challenge\\.venv\\lib\\site-packages (from requests) (3.10)\n",
      "Requirement already satisfied: urllib3<3,>=1.21.1 in c:\\users\\prisc\\desktop\\leetcode challenge\\.venv\\lib\\site-packages (from requests) (2.4.0)\n",
      "Requirement already satisfied: certifi>=2017.4.17 in c:\\users\\prisc\\desktop\\leetcode challenge\\.venv\\lib\\site-packages (from requests) (2025.4.26)\n",
      "Note: you may need to restart the kernel to use updated packages.\n",
      "已下载 01.jpg\n",
      "已将 1 个文件压缩到 photos.zip\n"
     ]
    }
   ],
   "source": [
    "%pip install requests\n",
    "\n",
    "import os\n",
    "import requests\n",
    "import zipfile\n",
    "\n",
    "full_urls = [\n",
    "    'https://images.partypics.com/events/27261855/00004/0245.jpg'\n",
    "]\n",
    "\n",
    "os.makedirs('images', exist_ok=True)\n",
    "\n",
    "downloaded = []\n",
    "for idx, url in enumerate(full_urls, start=1):\n",
    "    fname = f\"{idx:02d}.jpg\"\n",
    "    path = os.path.join('images', fname)\n",
    "    try:\n",
    "        r = requests.get(url, timeout=10)\n",
    "        r.raise_for_status()\n",
    "        with open(path, 'wb') as f:\n",
    "            f.write(r.content)\n",
    "        downloaded.append(path)\n",
    "        print(f\"已下载 {fname}\")\n",
    "    except Exception as e:\n",
    "        print(f\"下载 {fname} 失败: {url} -> {e}\")\n",
    "        \n",
    "    zip_name = 'photos.zip'\n",
    "    with zipfile.ZipFile(zip_name, 'w') as zipf:\n",
    "        for file in downloaded:\n",
    "            zipf.write(file, arcname=os.path.basename(file))\n",
    "    print(f\"已将 {len(downloaded)} 个文件压缩到 {zip_name}\")"
   ]
  },
  {
   "cell_type": "code",
   "execution_count": null,
   "id": "9df81109",
   "metadata": {},
   "outputs": [],
   "source": [
    "# 278 first bad version\n",
    "# The isBadVersion API is already defined for you.\n",
    "# def isBadVersion(version: int) -> bool:\n",
    "     \n",
    "def firstBadVersion(n: int) -> int:\n",
    "        # U - we have a helper function - isBadVersion returns boolean\n",
    "        # input is int, output int\n",
    "        # e.g n=1~9, use mid number to find\n",
    "\n",
    "        # initialize two pointers\n",
    "        left, right = 1, n\n",
    "        # get the mid number（除法里的商), keep while loop\n",
    "        while left < right:\n",
    "            mid = (left + right) // 2\n",
    "            # if mid is a bad version - false, find out if any other bad version before it\n",
    "            # narrow the search, let right pointer becomes mid number\n",
    "            if isBadVersion(mid):\n",
    "                right = mid\n",
    "            else:\n",
    "                # otherwise, if mid is good version, means first bad is still on the right,\n",
    "                # move the left to next one: mid+1 \n",
    "                left = mid + 1\n",
    "        \n",
    "        # loop ends, the left pointer always point to 1st bad version\n",
    "        return left"
   ]
  },
  {
   "cell_type": "code",
   "execution_count": null,
   "id": "167987a4",
   "metadata": {},
   "outputs": [],
   "source": [
    "# 268 missing number\n",
    "def missingNumber(nums) -> int:\n",
    "        # U - input a list of int, output missing int\n",
    "        # n = length of nums, range[0, n]\n",
    "        \n",
    "        n = len(nums)\n",
    "        # e.g nums=[3,0,1], n=3\n",
    "        #    index=[0,1,2]\n",
    "        temp = 0\n",
    "        for i in range(n):\n",
    "            # i - nums[i] --> first round, 0-3=-3, temp=-3\n",
    "            # 2nd round, 1-0=1, temp=-3+1=-2\n",
    "            # 3rd round, 2-1=1, temp=-2+1=-1\n",
    "            temp += i - nums[i]\n",
    "        # missing number = -1+n= -1+3=2\n",
    "        return temp+n"
   ]
  },
  {
   "cell_type": "code",
   "execution_count": null,
   "id": "6d2f097e",
   "metadata": {},
   "outputs": [],
   "source": [
    "# 70 climbing stairs\n",
    "def climbStairs(n: int) -> int:\n",
    "        if n == 0 or n == 1:\n",
    "            return 1\n",
    "        # these 1 means the number of ways to climb 0 or 1 stairs\n",
    "        prev, curr = 1, 1\n",
    "        for i in range(2, n+1):\n",
    "            temp = curr\n",
    "            # new current = previous + current\n",
    "            curr = prev + curr\n",
    "            # update previous to current\n",
    "            prev = temp\n",
    "        # curr contains the number of ways to climb n stairs\n",
    "        return curr"
   ]
  }
 ],
 "metadata": {
  "kernelspec": {
   "display_name": ".venv",
   "language": "python",
   "name": "python3"
  },
  "language_info": {
   "codemirror_mode": {
    "name": "ipython",
    "version": 3
   },
   "file_extension": ".py",
   "mimetype": "text/x-python",
   "name": "python",
   "nbconvert_exporter": "python",
   "pygments_lexer": "ipython3",
   "version": "3.12.6"
  }
 },
 "nbformat": 4,
 "nbformat_minor": 5
}
