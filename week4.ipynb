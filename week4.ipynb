{
 "cells": [
  {
   "cell_type": "code",
   "execution_count": null,
   "id": "3bf14b24",
   "metadata": {},
   "outputs": [],
   "source": [
    "# 88 merge sorted array\n",
    "def merge(nums1, m, nums2, n) -> None:\n",
    "        \"\"\"\n",
    "        Do not return anything, modify nums1 in-place instead.\n",
    "        \"\"\"\n",
    "        # print(nums1 + nums2)\n",
    "\n",
    "        # for index, num in enumerate(nums1):\n",
    "        #     if num == 0 and nums2:\n",
    "        #         nums1[index] = nums2.pop()\n",
    "\n",
    "        # Replace elements in nums1 with elements from nums2\n",
    "        nums1[m:] = nums2 # slice the nums1 [0,0,0], and assign nums2 entire list to it\n",
    "        nums1.sort() # sort the array in non-decreasing order(from small to large)"
   ]
  }
 ],
 "metadata": {
  "language_info": {
   "name": "python"
  }
 },
 "nbformat": 4,
 "nbformat_minor": 5
}
